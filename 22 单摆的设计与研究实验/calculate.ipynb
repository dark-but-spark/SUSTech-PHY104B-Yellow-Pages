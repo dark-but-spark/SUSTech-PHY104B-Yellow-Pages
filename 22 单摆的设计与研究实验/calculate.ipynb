{
 "cells": [
  {
   "cell_type": "markdown",
   "id": "86a5ea42",
   "metadata": {},
   "source": [
    "# 22 单摆的设计与研究实验.pdf\n",
    "\n",
    "#### 初始化部分（不用阅读 直接跳过）\n"
   ]
  },
  {
   "cell_type": "code",
   "execution_count": 52,
   "id": "964776d0",
   "metadata": {},
   "outputs": [],
   "source": [
    "import pandas as pd\n",
    "import numpy as np\n",
    "import math\n",
    "import matplotlib\n",
    "import matplotlib.pyplot as plt\n",
    "import os\n",
    "matplotlib.rcParams['font.sans-serif'] = ['SimHei'] # 用黑体显示中文"
   ]
  },
  {
   "cell_type": "markdown",
   "id": "5978580f",
   "metadata": {},
   "source": [
    "#### 读取部分\n",
    "\n",
    "请将你的数据放在同目录下的`data.txt`文件中，格式如下：\n",
    "\n",
    "第一行为你的测量次数$m$。\n",
    "\n",
    "第二行为你每次测量的摆长$l_0$，一共$m$个数，单位为$cm$。\n",
    "\n",
    "第三行为你每次测量的球的直径$D$，一共$m$个数，单位为$mm$。\n",
    "\n",
    "第四行为你选择的周期数$N$,和你时间测量的次数$n$。\n",
    "\n",
    "第五行为你每组实验测量的周期$T$，一共$n$个数,单位为$s$。\n",
    "\n",
    "参考输入如下：\n",
    "\n",
    "```\n",
    "5\n",
    "72.02 71.91 71.98 71.95 71.97 \n",
    "20.00 20.02 20.02 20.02 20.02 \n",
    "50 5\n",
    "85.75 85.66 85.72 85.79 85.69 \n",
    "```\n",
    "\n",
    "请注意，数据文件的格式必须严格按照上述格式，否则程序可能无法正常运行。\n",
    "\n",
    "下面这段程序的输出是输入的数据的回显，确保数据已正确读取。"
   ]
  },
  {
   "cell_type": "code",
   "execution_count": 53,
   "id": "1def1494",
   "metadata": {},
   "outputs": [
    {
     "name": "stdout",
     "output_type": "stream",
     "text": [
      "普通格式：\n",
      "摆线长度l_0（cm）:72.02 71.91 71.98 71.95 71.97 \n",
      "小球直径D（mm）:20.0 20.02 20.02 20.02 20.02 \n",
      "摆动周期T（s）:85.75 85.66 85.72 85.79 85.69 \n",
      "\n",
      "\n",
      "Markdown格式：\n",
      "| $测量序号$ |$1$|$2$|$3$|$4$|$5$|\n",
      "|:---:|:---:|:---:|:---:|:---:|:---:|\n",
      "|$摆线长度l_0（cm）$|$72.02$|$71.91$|$71.98$|$71.95$|$71.97$|\n",
      "|$小球直径D（mm）$|$20.0$|$20.02$|$20.02$|$20.02$|$20.02$|\n",
      "\n",
      "| $测量序号$ |$1$|$2$|$3$|$4$|$5$|\n",
      "|:---:|:---:|:---:|:---:|:---:|:---:|\n",
      "|$摆动周期T（s）$|$85.75$|$85.66$|$85.72$|$85.79$|$85.69$|\n"
     ]
    }
   ],
   "source": [
    "f=open('data.txt','r')\n",
    "m=int(f.readline()) # 第一行 \n",
    "nextline=f.readline().split() # 第二行\n",
    "l_0=[float(i) for i in nextline]\n",
    "nextline=f.readline().split() # 第三行\n",
    "D= [float(i) for i in nextline]\n",
    "nextline=f.readline().split() # 第四行\n",
    "N=int(nextline[0])\n",
    "n=int(nextline[1])\n",
    "nextline=f.readline().split()# 第五行\n",
    "T=[float(i) for i in nextline]\n",
    "\n",
    "###输出测量的表格（普通格式）\n",
    "print(\"普通格式：\")\n",
    "print(\"摆线长度l_0（cm）:\", end=\"\")\n",
    "for i in range(m):\n",
    "    print(f\"{l_0[i]} \", end=\"\")\n",
    "print(\"\\n小球直径D（mm）:\", end=\"\")\n",
    "for i in range(m):\n",
    "    print(f\"{D[i]} \", end=\"\")\n",
    "print(\"\\n摆动周期T（s）:\", end=\"\")\n",
    "for i in range(n):\n",
    "    print(f\"{T[i]} \", end=\"\")\n",
    "print(\"\\n\\n\")\n",
    "###输出测量的表格（Markdown格式）\n",
    "print(\"Markdown格式：\")\n",
    "print(\"| $测量序号$ |\", end=\"\")\n",
    "for i in range(m):\n",
    "    print(f\"${i+1}$|\", end=\"\")\n",
    "print(\"\\n|:---:|\" + \":---:|\" * m)\n",
    "print(\"|$摆线长度l_0（cm）$|\", end=\"\")\n",
    "for i in range(m):\n",
    "    print(f\"${l_0[i]}$|\", end=\"\")\n",
    "print(\"\\n|$小球直径D（mm）$|\", end=\"\")\n",
    "for i in range(m):\n",
    "    print(f\"${D[i]}$|\", end=\"\")\n",
    "print(\"\\n\")\n",
    "print(\"| $测量序号$ |\", end=\"\")\n",
    "for i in range(n):\n",
    "    print(f\"${i+1}$|\", end=\"\")\n",
    "print(\"\\n|:---:|\" + \":---:|\" * n)\n",
    "print(\"|$摆动周期T（s）$|\", end=\"\")\n",
    "for i in range(n):\n",
    "    print(f\"${T[i]}$|\", end=\"\")\n",
    "print()"
   ]
  },
  {
   "cell_type": "markdown",
   "id": "94eee48b",
   "metadata": {},
   "source": [
    "#### 计算平均数\n",
    "使用公式 \n",
    "$$\\bar{x} = \\frac{1}{n} \\sum_{i=1}^{n} x_i$$\n",
    "公式代码\n",
    "```Markdown\n",
    "(Markdown)\n",
    "$$\\bar{x} = \\frac{1}{n} \\sum_{i=1}^{n} x_i$$\n",
    "```\n",
    "\n",
    "以下代码输出平均值。\n",
    "\n"
   ]
  },
  {
   "cell_type": "code",
   "execution_count": 54,
   "id": "1667ae5d",
   "metadata": {},
   "outputs": [
    {
     "name": "stdout",
     "output_type": "stream",
     "text": [
      "普通格式：\n",
      "摆线长度l_0的平均值为：71.97 cm\n",
      "小球直径D的平均值为：20.02 mm\n",
      "摆动周期T的平均值为：85.72 s\n",
      "\n",
      "\n",
      "Markdown展开完整计算式格式：\n",
      "计算$l_0$的平均值的式子为：$\\bar{l_0} = \\frac{1}{n} \\sum_{i=1}^{n} l_0(i) = \\frac{72.02+71.91+71.98+71.95+71.97}{5} = 71.97 cm$\n",
      "计算$D$的平均值的式子为：$\\bar{D} = \\frac{1}{n} \\sum_{i=1}^{n} D(i) = \\frac{20.00+20.02+20.02+20.02+20.02}{5} = 20.02 mm$\n",
      "计算$T$的平均值的式子为：$\\bar{T} = \\frac{1}{n} \\sum_{i=1}^{n} T(i) = \\frac{85.75+85.66+85.72+85.79+85.69}{5} = 85.72 s$\n",
      "\n",
      "\n"
     ]
    }
   ],
   "source": [
    "###计算平均值\n",
    "l_0_bar= sum(l_0) / m\n",
    "D_bar= sum(D) / m\n",
    "T_bar= sum(T) / n\n",
    "\n",
    "###输出平均数（普通格式）\n",
    "print(\"普通格式：\")\n",
    "print(f\"摆线长度l_0的平均值为：{l_0_bar:.2f} cm\")\n",
    "print(f\"小球直径D的平均值为：{D_bar:.2f} mm\")\n",
    "print(f\"摆动周期T的平均值为：{T_bar:.2f} s\")\n",
    "print(\"\\n\")\n",
    "###输出平均数（Markdown展开完整计算式格式）\n",
    "print(\"Markdown展开完整计算式格式：\")\n",
    "print(f\"计算$l_0$的平均值的式子为：$\\\\bar{{l_0}} = \\\\frac{{1}}{{n}} \\\\sum_{{i=1}}^{{n}} l_0(i) = \\\\frac{{{\"+\".join([format(i,\".2f\") for i in l_0])}}}{{{m}}} = {l_0_bar:.2f} cm$\")\n",
    "print(f\"计算$D$的平均值的式子为：$\\\\bar{{D}} = \\\\frac{{1}}{{n}} \\\\sum_{{i=1}}^{{n}} D(i) = \\\\frac{{{\"+\".join([format(i,\".2f\") for i in D])}}}{{{m}}} = {D_bar:.2f} mm$\")\n",
    "print(f\"计算$T$的平均值的式子为：$\\\\bar{{T}} = \\\\frac{{1}}{{n}} \\\\sum_{{i=1}}^{{n}} T(i) = \\\\frac{{{\"+\".join([format(i,\".2f\") for i in T])}}}{{{n}}} = {T_bar:.2f} s$\")\n",
    "print(\"\\n\")"
   ]
  },
  {
   "cell_type": "markdown",
   "id": "aa52ec66",
   "metadata": {},
   "source": []
  }
 ],
 "metadata": {
  "kernelspec": {
   "display_name": "base",
   "language": "python",
   "name": "python3"
  },
  "language_info": {
   "codemirror_mode": {
    "name": "ipython",
    "version": 3
   },
   "file_extension": ".py",
   "mimetype": "text/x-python",
   "name": "python",
   "nbconvert_exporter": "python",
   "pygments_lexer": "ipython3",
   "version": "3.12.7"
  }
 },
 "nbformat": 4,
 "nbformat_minor": 5
}

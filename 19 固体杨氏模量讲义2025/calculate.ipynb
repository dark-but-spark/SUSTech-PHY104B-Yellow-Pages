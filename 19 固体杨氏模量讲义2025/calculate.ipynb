{
 "cells": [
  {
   "cell_type": "markdown",
   "id": "2f15a306",
   "metadata": {},
   "source": [
    "# 19 固体杨氏模量讲义2025\n",
    "## 初始化部分（不用阅读 直接跳过）"
   ]
  },
  {
   "cell_type": "code",
   "execution_count": 50,
   "id": "5e388c30",
   "metadata": {},
   "outputs": [],
   "source": [
    "import pandas as pd\n",
    "import numpy as np\n",
    "import math\n",
    "import matplotlib\n",
    "import matplotlib.pyplot as plt\n",
    "import os\n",
    "matplotlib.rcParams['font.sans-serif'] = ['SimHei'] # 用黑体显示中文\n",
    "def toMarkdown(x,e): # 将数字转换为Markdown格式的科学计数法 精度格式为e\n",
    "    s=format(x,e)\n",
    "    l=s.split('e')\n",
    "    l[1]=str(int(l[1]))\n",
    "    if(l[1]== '0'):\n",
    "        return l[0]\n",
    "    return l[0]+'\\\\times10^{'+l[1]+'}'\n",
    "\n",
    "accuracy=\".2e\""
   ]
  },
  {
   "cell_type": "markdown",
   "id": "9800d636",
   "metadata": {},
   "source": [
    "## 输入部分 并进行基础处理\n",
    "\n",
    "请将你的数据放在同目录下的'data.txt'文件中，格式如下：\n",
    "\n",
    "第一行有三个数，分别为金属丝的长度$L(cm)$，平面镜和直尺之间的距离$D(cm)$和光杠杆的臂长$l(cm)$\n",
    "\n",
    "第二行有一个整数$n$，表示测量直径时测量的次数\n",
    "\n",
    "第三行有$n$个数，表示测量的直径$d_i(mm)$\n",
    "\n",
    "第四行有一个整数$m$，表示测量拉力时测量的次数\n",
    "\n",
    "第五行和第六行有$m$个数，表示重量增加$ikg$时的读数$x_i(mm)$\n",
    "\n",
    "```\n",
    "80.65 152.22 7.49\n",
    "6\n",
    "0.603 0.601 0.597 0.601 0.603 0.606\n",
    "8\n",
    "1.50 2.19 3.10 3.78 4.45 5.09 5.76 6.41\n",
    "1.85 2.59 3.29 3.91 4.56 5.19 5.79 6.41\n",
    "\n",
    "```\n",
    "输出部分 输入的内容将被读取并显示在屏幕上，并进行基础处理。"
   ]
  },
  {
   "cell_type": "code",
   "execution_count": 51,
   "id": "44f13496",
   "metadata": {},
   "outputs": [
    {
     "name": "stdout",
     "output_type": "stream",
     "text": [
      "L = 80.650 cm\n",
      "l = 7.490 cm\n",
      "D = 152.220 cm\n",
      "d= ['0.603', '0.601', '0.597', '0.601', '0.603', '0.606'] mm\n",
      "d_bar= 0.602 mm\n",
      "x_1= ['1.50', '2.19', '3.10', '3.78', '4.45', '5.09', '5.76', '6.41'] mm\n",
      "x_2= ['1.85', '2.59', '3.29', '3.91', '4.56', '5.19', '5.79', '6.41'] mm\n",
      "x= ['1.68', '2.39', '3.20', '3.84', '4.50', '5.14', '5.78', '6.41'] mm\n",
      "\n",
      "Markdown格式输出：\n",
      "|$id$|$1$|$2$|$3$|$4$|$5$|$6$|\n",
      "|:---:|:---:|:---:|:---:|:---:|:---:|:---:|\n",
      "|$d$|$0.603$|$0.601$|$0.597$|$0.601$|$0.603$|$0.606$|\n",
      "\n",
      "|$id$|$1$|$2$|$3$|$4$|$5$|$6$|$7$|$8$|\n",
      "|:---:|:---:|:---:|:---:|:---:|:---:|:---:|:---:|:---:|\n",
      "|$x_1$|$1.50$|$2.19$|$3.10$|$3.78$|$4.45$|$5.09$|$5.76$|$6.41$|\n",
      "|$x_2$|$1.85$|$2.59$|$3.29$|$3.91$|$4.56$|$5.19$|$5.79$|$6.41$|\n",
      "|$\\bar x$|$1.68$|$2.39$|$3.20$|$3.84$|$4.50$|$5.14$|$5.78$|$6.41$|\n"
     ]
    }
   ],
   "source": [
    "f=open('data.txt', 'r')\n",
    "lines=f.readline().split()\n",
    "L=float(lines[0])\n",
    "D=float(lines[1])\n",
    "l=float(lines[2])\n",
    "lines=f.readline()\n",
    "n=int(lines)\n",
    "lines=f.readline().split()\n",
    "d=[float(i) for i in lines]\n",
    "lines=f.readline()\n",
    "m=int(lines)\n",
    "lines=f.readline().split()\n",
    "x_1=[float(i) for i in lines]\n",
    "lines=f.readline().split()\n",
    "x_2=[float(i) for i in lines]\n",
    "f.close()\n",
    "x=[(x_1[i]+x_2[i])/2 for i in range(m)]\n",
    "d_bar=np.mean(d)\n",
    "print('L =', format(L,\".3f\"), 'cm')\n",
    "print('l =', format(l,\".3f\"), 'cm')\n",
    "print('D =', format(D,\".3f\"), 'cm')\n",
    "print('d=', [format(i,\".3f\") for i in d], 'mm')\n",
    "print('d_bar=', format(d_bar,\".3f\"), 'mm')\n",
    "print('x_1=', [format(i,\".2f\") for i in x_1], 'mm')\n",
    "print('x_2=', [format(i,\".2f\") for i in x_2], 'mm')\n",
    "print('x=', [format(i,\".2f\") for i in x], 'mm')\n",
    "print()\n",
    "print(\"Markdown格式输出：\")\n",
    "print('|$id$|$'+'$|$'.join([str(i+1) for i in range(n)])+'$|')\n",
    "print('|:---:' * (n + 1) + '|')\n",
    "print('|$d$|$'+'$|$'.join([format(i,\".3f\") for i in d])+'$|')\n",
    "print()\n",
    "print('|$id$|$'+'$|$'.join([str(i+1) for i in range(m)])+'$|')\n",
    "print('|:---:' * (m + 1) + '|')\n",
    "print('|$x_1$|$'+'$|$'.join([format(i,\".2f\") for i in x_1])+'$|')\n",
    "print('|$x_2$|$'+'$|$'.join([format(i,\".2f\") for i in x_2])+'$|')\n",
    "print('|$\\\\bar x$|$'+'$|$'.join([format(i,\".2f\") for i in x])+'$|')"
   ]
  },
  {
   "cell_type": "markdown",
   "id": "d805d3fa",
   "metadata": {},
   "source": [
    "## 逐差法\n",
    "相关公式\n",
    "$$\\bar{\\Delta b}={1\\over 16}\\sum \\limits_{i=1}^{4}(\\bar r_{i+4}-\\bar r_i)$$\n",
    "$$E=\\frac{2DLF}{Slb}=\\frac{8mgLD}{\\pi \\Delta b d^2 l}$$\n",
    "$$\\frac{\\Delta E}{E}=\\sqrt{(\\frac{\\Delta D}{D})^2+\n",
    "(\\frac{\\Delta L}{L})^2+\n",
    "(\\frac{\\Delta l}{l})^2+\n",
    "(\\frac{\\Delta F}{F})^2+\n",
    "(\\frac{\\Delta b}{b})^2+\n",
    "(\\frac{2\\Delta d}{d})^2}$$\n",
    "需要的常数：\n",
    "$∆m=5g,∆L = 0.05mm,∆D =0.05mm,∆l = 0.05mm,∆b = 0.05mm,∆d = 0.001mm$\n",
    "\n",
    "```\n",
    "(Markdown)\n",
    "$$\\bar{\\Delta b}={1\\over 16}\\sum \\limits_{i=1}^{4}(\\bar r_{i+4}-\\bar r_i)$$\n",
    "$$E=\\frac{2DLF}{Slb}=\\frac{8mgLD}{\\pi \\Delta b d^2 l}$$\n",
    "$$\\frac{\\Delta E}{E}=\\sqrt{(\\frac{\\Delta D}{D})^2+(\\frac{\\Delta L}{L})^2+\n",
    "(\\frac{\\Delta l}{l})^2+(\\frac{\\Delta F}{F})^2+\n",
    "(\\frac{\\Delta b}{b})^2+(\\frac{2\\Delta d}{d})^2}$$\n",
    "$∆m=5g,∆L = 0.05mm,∆D =0.05mm,∆l = 0.05mm,∆b = 0.05mm,∆d = 0.001mm$\n",
    "```"
   ]
  },
  {
   "cell_type": "code",
   "execution_count": 53,
   "id": "63d24e95",
   "metadata": {},
   "outputs": [
    {
     "name": "stdout",
     "output_type": "stream",
     "text": [
      "普通格式输出：\n",
      "b= 0.0007 mm\n",
      "k= 74.6661\n",
      "E= 1.6828e+19 N/m^2\n",
      "deltaE= 1.2565e+21 N/m^2\n",
      "\n",
      "Markdown格式输出：\n",
      "E= 1.68\\times10^{19}\n",
      "deltaE= 1.26\\times10^{21}\n"
     ]
    }
   ],
   "source": [
    "deltam=5e-3/1000\n",
    "deltaL=5e-2/1000\n",
    "deltaD=5e-2/1000\n",
    "deltal=5e-2/1000\n",
    "deltad=1e-3/1000\n",
    "deltab=5e-2/1000\n",
    "g=9.7887\n",
    "m=1.0\n",
    "#输入的数据单位换算成m\n",
    "L/=100\n",
    "l/=100\n",
    "D/=100\n",
    "d=[i/1000 for i in d]\n",
    "d_bar/=1000\n",
    "x=[i/1000 for i in x]\n",
    "b=0\n",
    "for i in range(0,len(x)-4):\n",
    "    b+=(x[i+4]-x[i])/16\n",
    "E=(8*m*g*L*D)/(math.pi*b*d_bar*d_bar*l)\n",
    "k=((deltaD/D)**2+(deltaL/L)**2+(deltal/l)**2+(deltam/m)**2+(deltab/b)**2+(2*deltad/d_bar)**2)**0.5\n",
    "\n",
    "print(\"普通格式输出：\")\n",
    "print(\"b=\",format(b*1000,'.4f'),\"mm\")\n",
    "print(\"k=\",format(k,'.4f'))\n",
    "print(\"E=\",format(E,'.4e'),\"N/m^2\")\n",
    "print(\"deltaE=\",format(E*k,'.4e'),\"N/m^2\")\n",
    "print()\n",
    "print(\"Markdown格式输出：\")\n",
    "print(\"E=\",toMarkdown(E,accuracy))\n",
    "print(\"deltaE=\",toMarkdown(E*k,accuracy))\n"
   ]
  }
 ],
 "metadata": {
  "kernelspec": {
   "display_name": "base",
   "language": "python",
   "name": "python3"
  },
  "language_info": {
   "codemirror_mode": {
    "name": "ipython",
    "version": 3
   },
   "file_extension": ".py",
   "mimetype": "text/x-python",
   "name": "python",
   "nbconvert_exporter": "python",
   "pygments_lexer": "ipython3",
   "version": "3.12.7"
  }
 },
 "nbformat": 4,
 "nbformat_minor": 5
}
